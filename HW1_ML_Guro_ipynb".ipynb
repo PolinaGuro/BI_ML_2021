{
  "nbformat": 4,
  "nbformat_minor": 0,
  "metadata": {
    "colab": {
      "name": "HW1_ML_Guro.ipynb\"",
      "provenance": [],
      "collapsed_sections": [],
      "include_colab_link": true
    },
    "kernelspec": {
      "name": "python3",
      "display_name": "Python 3"
    },
    "language_info": {
      "name": "python"
    }
  },
  "cells": [
    {
      "cell_type": "markdown",
      "metadata": {
        "id": "view-in-github",
        "colab_type": "text"
      },
      "source": [
        "<a href=\"https://colab.research.google.com/github/PolinaGuro/BI_ML_2021/blob/master/HW1_ML_Guro_ipynb%22.ipynb\" target=\"_parent\"><img src=\"https://colab.research.google.com/assets/colab-badge.svg\" alt=\"Open In Colab\"/></a>"
      ]
    },
    {
      "cell_type": "code",
      "execution_count": null,
      "metadata": {
        "id": "uj_lY-NlsYFa"
      },
      "outputs": [],
      "source": [
        "import time\n",
        "import matplotlib.pyplot as plt\n",
        "import seaborn as sns\n",
        "import numpy as np\n",
        "import random\n",
        "import pandas as pd\n",
        "\n",
        "\n",
        "from sklearn.datasets import fetch_openml\n",
        "from sklearn.model_selection import train_test_split\n",
        "#from knn import KNNClassifier\n",
        "#from metrics import binary_classification_metrics, multiclass_accuracy"
      ]
    },
    {
      "cell_type": "code",
      "source": [
        "plt.rcParams[\"figure.figsize\"] = 12, 9\n",
        "sns.set_style(\"whitegrid\")\n",
        "\n",
        "SEED = 111\n",
        "random.seed(SEED)\n",
        "np.random.seed(SEED)"
      ],
      "metadata": {
        "id": "QH5enStss0Ul"
      },
      "execution_count": null,
      "outputs": []
    },
    {
      "cell_type": "code",
      "source": [
        "import numpy as np\n",
        "\n",
        "\n",
        "class KNNClassifier:\n",
        "    \"\"\"\n",
        "    K-neariest-neighbor classifier using L1 loss\n",
        "    \"\"\"\n",
        "    \n",
        "    def __init__(self, k=1):\n",
        "        self.k = k\n",
        "    \n",
        "\n",
        "    def fit(self, X, y):\n",
        "        self.train_X = X\n",
        "        self.train_y = y\n",
        "\n",
        "\n",
        "    def predict(self, testData, n_loops=1):\n",
        "        \n",
        "        if n_loops == 0:\n",
        "            distances = self.compute_distances_no_loops(testData)\n",
        "        elif n_loops == 1:\n",
        "            distances = self.compute_distances_one_loop(testData)\n",
        "        else:\n",
        "            distances = self.compute_distances_two_loops(testData)\n",
        "        \n",
        "        if len(np.unique(self.train_y)) == 2:\n",
        "          return self.predict_labels_binary(distances)\n",
        "        else:\n",
        "          return self.predict_labels_multiclass(distances)\n",
        "\n",
        "\n",
        "    def compute_distances_two_loops(self, X_test):\n",
        "        \n",
        "        num_test = len(X_test)\n",
        "        num_train = len(self.train_X)\n",
        "        dists = np.zeros((num_test, num_train))\n",
        "        for i in range(num_test):\n",
        "          for j in range(num_train):\n",
        "            dists[i, j] = np.sqrt(np.sum(np.square(self.train_X[j,:] - X_test[i,:]))) # this!\n",
        "        return dists\n",
        "        \n",
        "        pass\n",
        "\n",
        "\n",
        "    def compute_distances_one_loop(self, X_test):\n",
        "        \n",
        "        num_test = len(X_test)\n",
        "        num_train = len(self.train_X)\n",
        "        dists = np.zeros((num_test, num_train))\n",
        "        for i in range(num_test):\n",
        "          dists[i] = np.sqrt(np.sum(np.square(self.train_X - X_test[i,:]), axis = 1)) # this\n",
        "        return dists\n",
        "        pass\n",
        "\n",
        "\n",
        "    def compute_distances_no_loops(self, X_test):\n",
        "        \n",
        "\n",
        "        num_test = len(X_test)\n",
        "        num_train = len(self.train_X)\n",
        "        dists = np.zeros((num_test, num_train))\n",
        "        dists = np.sqrt((X_test**2).sum(axis=1)[:, np.newaxis]\n",
        "            + (self.train_X**2).sum(axis=1)\n",
        "            - 2 * X_test.dot(self.train_X.T))\n",
        "        return dists\n",
        "        pass\n",
        "\n",
        "\n",
        "    def predict_labels_binary(self, distances):\n",
        "        \n",
        "\n",
        "        n_train = distances.shape[1]\n",
        "        n_test = distances.shape[0]\n",
        "        prediction = np.zeros(n_test)\n",
        "\n",
        "        numberOfClasses = 2\n",
        "        for i in range(n_test):\n",
        "          arr_ind = np.argsort(distances[i, :])\n",
        "          labels = self.train_y[arr_ind[0:self.k]]\n",
        "          #вектор из количеств каждого класса в labels\n",
        "          label_sum = np.zeros(numberOfClasses)\n",
        "          for j in range(numberOfClasses):\n",
        "          # для каждого класса делаем вектор bool а потом суммируем как int\n",
        "            label_sum[j] = sum(labels == j)\n",
        "          #индекс максимального элемента label_sum\n",
        "          prediction[i] = np.argmax(label_sum)\n",
        "        return prediction\n",
        "        pass\n",
        "\n",
        "\n",
        "    def predict_labels_multiclass(self, distances):\n",
        "        \n",
        "\n",
        "        n_train = distances.shape[0]\n",
        "        n_test = distances.shape[0]\n",
        "        prediction = np.zeros(n_test, np.int)\n",
        "\n",
        "        # ддлина вектора уникальных значиений y_train (меток класса)\n",
        "        numberOfClasses = (np.unique(self.train_y)).shape[0]\n",
        "        for i in range(n_test):\n",
        "          arr_ind = np.argsort(distances[i, :])\n",
        "          labels = self.train_y[arr_ind[0:self.k]]\n",
        "          #вектор из количеств каждого класса в labels\n",
        "          label_sum = np.zeros(numberOfClasses)\n",
        "          for j in range(numberOfClasses):\n",
        "          # для каждого класса делаем вектор bool а потом суммируем как int\n",
        "            label_sum[j] = sum(labels == j)\n",
        "          #индекс максимального элемента label_sum\n",
        "          prediction[i] = np.argmax(label_sum)\n",
        "        return prediction\n",
        "        pass"
      ],
      "metadata": {
        "id": "kY-G4pm0Qs9p"
      },
      "execution_count": null,
      "outputs": []
    },
    {
      "cell_type": "code",
      "source": [
        "def binary_classification_metrics(Mod, Exp):\n",
        "\n",
        "  tp = 0; fp = 0; fn = 0; tn = 0\n",
        "  for i in range(Mod.shape[0]):\n",
        "    if Mod[i] == 0 and Exp[i] == 0:\n",
        "      tn = tn + 1\n",
        "    elif Mod[i] == 0 and Exp[i] == 1:\n",
        "      fn = fn + 1\n",
        "    elif Mod[i] == 1 and Exp[i] == 0:\n",
        "      fp = fp + 1\n",
        "    else:\n",
        "      tp = tp + 1\n",
        "  if not (tp + fp == 0):\n",
        "    precision = tp / (tp + fp)\n",
        "  else:\n",
        "    precision = 0\n",
        "  if not (tp + fn == 0):  \n",
        "    recall = tp / (tp + fn)\n",
        "  else:\n",
        "    recall = 0\n",
        "  if not (precision + recall == 0):  \n",
        "    F1 = 2 * (precision * recall) / (precision + recall)\n",
        "  else:\n",
        "    F1 = 0\n",
        "  if not (tp + fn + fp + tn == 0):  \n",
        "    accuracy = (tp + tn) / (tp + fn + fp + tn)\n",
        "  else:\n",
        "    accuracy = 0\n",
        "\n",
        "  return precision, recall, F1, accuracy\n",
        "  pass\n",
        "\n",
        "\n",
        "def multiclass_accuracy(Mod, Exp):\n",
        "  num_Classes = np.size(np.unique(Exp))\n",
        "  arr = np.zeros((num_Classes, num_Classes))\n",
        "  for i in range(np.size(Mod, 0)):\n",
        "    arr[np.int16(Mod[i]), np.int16(Exp[i])] = arr[np.int16(Mod[i]), np.int16(Exp[i])] + 1\n",
        "  precision = np.zeros(num_Classes)\n",
        "  for i in range(np.size(precision, 0)):\n",
        "    if not (np.sum(arr[i, :]) == 0):\n",
        "      precision[i] = arr[i,i] / np.sum(arr[i, :])\n",
        "    else:\n",
        "      precision[i] = 0\n",
        "      \n",
        "  recall = np.zeros(num_Classes)\n",
        "  for i in range(np.size(recall, 0)):\n",
        "    if not (np.sum(arr[:, i]) == 0):\n",
        "      recall[i] = arr[i,i] / np.sum(arr[:, i])\n",
        "    else:\n",
        "      recall[i] = 0\n",
        "  return precision\n",
        "  pass\n",
        "\n",
        "\n",
        "def r_squared(y_pred, y_true):\n",
        "  mean_y_true = np.mean(y_true)\n",
        "  r_sq = 1 - np.sum((y_pred - y_true)**2)/np.sum((y_true - mean_y_true)**2)\n",
        "  pass\n",
        "\n",
        "\n",
        "def mse(y_pred, y_true):\n",
        "  mse = np.sum((y_pred - y_true)**2)/y_true.shape[0]\n",
        "  pass\n",
        "\n",
        "\n",
        "def mae(y_pred, y_true):\n",
        "  mae = np.sum(np.abs(y_pred - y_true))/y_true.shape[0]\n",
        "  pass"
      ],
      "metadata": {
        "id": "hFMZ9smbQtw-"
      },
      "execution_count": null,
      "outputs": []
    },
    {
      "cell_type": "code",
      "source": [
        "X, y = fetch_openml(name=\"Fashion-MNIST\", return_X_y=True, as_frame=False)"
      ],
      "metadata": {
        "id": "DtqOBabetSHm"
      },
      "execution_count": null,
      "outputs": []
    },
    {
      "cell_type": "code",
      "source": [
        "idx_to_stay = np.random.choice(np.arange(X.shape[0]), replace=False, size=1000)\n",
        "X = X[idx_to_stay]\n",
        "y = y[idx_to_stay]"
      ],
      "metadata": {
        "id": "--iX36SlwPIL"
      },
      "execution_count": null,
      "outputs": []
    },
    {
      "cell_type": "code",
      "source": [
        "#test 1.1\n",
        "tmp = [];\n",
        "tmp2 = [];\n",
        "for i in range(1000):\n",
        "  if not y[i] in tmp2:\n",
        "    tmp2.append(y[i])\n",
        "    tmp.append(i)\n",
        "  if len(tmp) == 10:\n",
        "    break\n",
        "for i in range(10):\n",
        "  plt.subplot(5, 2, i+1)\n",
        "  image = X[tmp[i]].reshape(28, 28)\n",
        "  plt.imshow(image)\n",
        "  plt.axis(\"off\");\n"
      ],
      "metadata": {
        "colab": {
          "base_uri": "https://localhost:8080/",
          "height": 520
        },
        "id": "xnzWZ3GAxfQl",
        "outputId": "6dc2a70b-5e9b-4b44-854b-a3ed9dee2c4c"
      },
      "execution_count": null,
      "outputs": [
        {
          "output_type": "display_data",
          "data": {
            "image/png": "[encoded data removed]",
            "text/plain": [
              "<Figure size 864x648 with 10 Axes>"
            ]
          },
          "metadata": {}
        }
      ]
    },
    {
      "cell_type": "code",
      "source": [
        "# test  1.2\n",
        "import collections\n",
        "collections.Counter(y)"
      ],
      "metadata": {
        "id": "v_EX5SnH4cT2",
        "outputId": "968551d2-734d-4357-84ee-b2704dc4265f",
        "colab": {
          "base_uri": "https://localhost:8080/"
        }
      },
      "execution_count": null,
      "outputs": [
        {
          "output_type": "execute_result",
          "data": {
            "text/plain": [
              "Counter({'0': 93,\n",
              "         '1': 102,\n",
              "         '2': 95,\n",
              "         '3': 121,\n",
              "         '4': 96,\n",
              "         '5': 98,\n",
              "         '6': 101,\n",
              "         '7': 79,\n",
              "         '8': 109,\n",
              "         '9': 106})"
            ]
          },
          "metadata": {},
          "execution_count": 15
        }
      ]
    },
    {
      "cell_type": "code",
      "source": [
        "#test 1.3\n",
        "X_train, X_test, y_train, y_test = train_test_split(X, y, \n",
        "                                                    train_size=0.67, \n",
        "                                                    random_state=42)"
      ],
      "metadata": {
        "id": "es5CCeK6BVCk"
      },
      "execution_count": null,
      "outputs": []
    },
    {
      "cell_type": "code",
      "source": [
        "#test 1.4\n",
        "#from sklearn.neighbors import KNeighborsClassifier\n",
        "cnt_test = collections.Counter(y_test)\n",
        "cnt_train = collections.Counter(y_train)\n",
        "binary_train_y = np.zeros(cnt_train['0']+cnt_train['1']); binary_train_X = np.zeros((cnt_train['0']+cnt_train['1'], np.size(X_train, 1)))\n",
        "binary_test_X = np.zeros((cnt_test['0']+cnt_test['1'], np.size(X_test, 1))); binary_test_y = np.zeros(cnt_test['0']+cnt_test['1'])\n",
        "trn_it = 0; tst_it = 0\n",
        "for i in range(len(y_train)):\n",
        "  if y_train[i] == '0' or y_train[i] == '1':\n",
        "    binary_train_y[trn_it] = y_train[i]\n",
        "    binary_train_X[trn_it] = X_train[i]\n",
        "    trn_it = trn_it + 1\n",
        "for i in range(len(y_test)):\n",
        "  if y_test[i] == '0' or y_test[i] == '1':\n",
        "    binary_test_y[tst_it] = (y_test[i])\n",
        "    binary_test_X[tst_it] = (X_test[i])\n",
        "    tst_it = tst_it + 1\n",
        "#knn_classifier  = KNeighborsClassifier(n_neighbors = 1)\n",
        "#knn_classifier .fit(binary_train_X , binary_train_y)"
      ],
      "metadata": {
        "id": "AweFLUoJTHJO"
      },
      "execution_count": null,
      "outputs": []
    },
    {
      "cell_type": "code",
      "source": [
        "from sklearn.metrics import precision_score, recall_score, f1_score, accuracy_score"
      ],
      "metadata": {
        "id": "zvNZoiCS6KMB"
      },
      "execution_count": null,
      "outputs": []
    },
    {
      "cell_type": "code",
      "source": [
        "def find_best_k(X_train, y_train, X_test, y_test, params, metric):\n",
        "  train_metrics = np.zeros(len(params));  test_metrics = np.zeros(len(params))\n",
        "  \n",
        "  for k in range(len(params)):\n",
        "    knn = KNNClassifier(params[k])\n",
        "    knn.fit(X_train, y_train)\n",
        "    prediction_test = knn.predict(X_test)\n",
        "    precision, recall, F1, accuracy = binary_classification_metrics(prediction_test, y_test)\n",
        "    if metric == 'precision':\n",
        "      test_metrics[k] = precision\n",
        "    elif metric == 'recall':\n",
        "      test_metrics[k] = recall\n",
        "    elif metric == 'F1':\n",
        "      test_metrics[k] = F1\n",
        "    elif metric == 'accuracy':\n",
        "      test_metrics[k] = accuracy\n",
        "\n",
        "    prediction_train = knn.predict(X_train)\n",
        "    precision, recall, F1, accuracy = binary_classification_metrics(prediction_train, y_train)\n",
        "    if metric == 'precision':\n",
        "      train_metrics[k] = precision\n",
        "    elif metric == 'recall':\n",
        "      train_metrics[k] = recall\n",
        "    elif metric == 'F1':\n",
        "      train_metrics[k] = F1\n",
        "    elif metric == 'accuracy':\n",
        "      train_metrics[k] = accuracy\n",
        "  return train_metrics, test_metrics\n",
        "params = [1, 2, 4, 5, 8, 10, 30]\n",
        "train_metrics, test_metrics = find_best_k(binary_train_X, binary_train_y, binary_test_X, binary_test_y, params, 'F1')"
      ],
      "metadata": {
        "id": "D4QsEoXFJszb"
      },
      "execution_count": null,
      "outputs": []
    },
    {
      "cell_type": "code",
      "source": [
        "print(test_metrics)"
      ],
      "metadata": {
        "id": "12bNdozNf3VP",
        "outputId": "521f74a8-9d47-43f7-c392-ca1bffaa4766",
        "colab": {
          "base_uri": "https://localhost:8080/"
        }
      },
      "execution_count": null,
      "outputs": [
        {
          "output_type": "stream",
          "name": "stdout",
          "text": [
            "[1.         0.96666667 0.98360656 0.98360656 0.96666667 0.96666667\n",
            " 0.92063492]\n"
          ]
        }
      ]
    },
    {
      "cell_type": "code",
      "source": [
        "plt.plot(params, train_metrics, label=\"train\")\n",
        "plt.plot(params, test_metrics, label=\"test\")\n",
        "plt.legend()\n",
        "plt.xlabel(\"K in KNN\")\n",
        "plt.ylabel(\"YOUR METRIC\");"
      ],
      "metadata": {
        "colab": {
          "base_uri": "https://localhost:8080/",
          "height": 551
        },
        "id": "GQMRqNkqMcVE",
        "outputId": "c5eca271-e4f8-408d-8eda-ce27a164d9df"
      },
      "execution_count": null,
      "outputs": [
        {
          "output_type": "display_data",
          "data": {
            "image/png": "[encoded data removed]",
            "text/plain": [
              "<Figure size 864x648 with 1 Axes>"
            ]
          },
          "metadata": {}
        }
      ]
    },
    {
      "cell_type": "code",
      "source": [
        "knn_classifier = KNNClassifier(k=1)\n",
        "knn_classifier.fit(X_train, y_train)\n",
        "predictions = knn_classifier.predict(X_test)"
      ],
      "metadata": {
        "id": "04A3hlyrg1n4"
      },
      "execution_count": null,
      "outputs": []
    }
  ]
}